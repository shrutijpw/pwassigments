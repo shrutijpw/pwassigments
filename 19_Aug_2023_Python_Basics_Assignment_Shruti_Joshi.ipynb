{
 "cells": [
  {
   "cell_type": "code",
   "execution_count": 1,
   "id": "c75c33ee-3475-429a-b0ac-2362d766aeda",
   "metadata": {},
   "outputs": [],
   "source": [
    "#TOPIC: Python Basics Variable"
   ]
  },
  {
   "cell_type": "code",
   "execution_count": 2,
   "id": "6ade8958-846d-4c5d-b4e3-094b51e17d38",
   "metadata": {},
   "outputs": [],
   "source": [
    "# Question 1: Declare two variables, `x` and `y`, and assign them integer values. Swap the\n",
    "# values of these variables without using any temporary variable."
   ]
  },
  {
   "cell_type": "code",
   "execution_count": 3,
   "id": "4e28512a-52a0-4988-96ea-4e574f78b7cd",
   "metadata": {},
   "outputs": [],
   "source": [
    "# Solution 1:"
   ]
  },
  {
   "cell_type": "code",
   "execution_count": 1,
   "id": "76de15a6-6e92-4dc3-91b5-e43e95cc9023",
   "metadata": {},
   "outputs": [
    {
     "name": "stdout",
     "output_type": "stream",
     "text": [
      "Value of x before swap -98\n",
      "Value of y before swap 8\n",
      "Value of x after swap 8\n",
      "Value of y after swap -98\n"
     ]
    }
   ],
   "source": [
    "x,y =-98,8\n",
    "print(\"Value of x before swap\", x)\n",
    "print(\"Value of y before swap\", y)\n",
    "x=x+y \n",
    "y=x-y \n",
    "x=x-y\n",
    "print(\"Value of x after swap\", x)\n",
    "print(\"Value of y after swap\", y)"
   ]
  },
  {
   "cell_type": "markdown",
   "id": "8d8a9106-f5a2-41c2-a664-73ff8e32524a",
   "metadata": {},
   "source": [
    "-------------------------------------------------------"
   ]
  },
  {
   "cell_type": "code",
   "execution_count": 5,
   "id": "371ec279-3856-462c-b4a6-6f72bcdaebb7",
   "metadata": {},
   "outputs": [],
   "source": [
    "#Question 2: Create a program that calculates the area of a rectangle. Take the length and\n",
    "#width as inputs from the user and store them in variables. Calculate and\n",
    "#display the area."
   ]
  },
  {
   "cell_type": "code",
   "execution_count": 6,
   "id": "57e01287-746f-4ef5-aab5-73e9b03b1e01",
   "metadata": {},
   "outputs": [],
   "source": [
    "#Solution 2:"
   ]
  },
  {
   "cell_type": "code",
   "execution_count": 7,
   "id": "c619cf23-887c-4a80-a3be-a5a18e8b925e",
   "metadata": {},
   "outputs": [
    {
     "name": "stdin",
     "output_type": "stream",
     "text": [
      "Enter length:  56.4\n",
      "Enter width:  34.5\n"
     ]
    },
    {
     "name": "stdout",
     "output_type": "stream",
     "text": [
      "Area of rectangle:= 1945.8\n"
     ]
    }
   ],
   "source": [
    "length = input(\"Enter length: \")\n",
    "width = input(\"Enter width: \")\n",
    "length=float(length)\n",
    "width= float(width)\n",
    "area=length*width\n",
    "print(\"Area of rectangle:=\",area)"
   ]
  },
  {
   "cell_type": "markdown",
   "id": "a3366efc-0b2d-4e8f-878d-b03ae21f991c",
   "metadata": {},
   "source": [
    "----------------------------------------------------------------------------"
   ]
  },
  {
   "cell_type": "code",
   "execution_count": 8,
   "id": "579e222b-7347-4d2e-8247-dd1450c838f6",
   "metadata": {},
   "outputs": [],
   "source": [
    "# Question 3: Write a Python program that converts temperatures from Celsius to\n",
    "#Fahrenheit. Take the temperature in Celsius as input, store it in a variable,\n",
    "#convert it to Fahrenheit, and display the result."
   ]
  },
  {
   "cell_type": "code",
   "execution_count": 9,
   "id": "56b34160-a41b-40bf-b779-a1191f6d9c86",
   "metadata": {},
   "outputs": [],
   "source": [
    "# Solution 3:"
   ]
  },
  {
   "cell_type": "code",
   "execution_count": 10,
   "id": "59b9e4a5-e15f-435b-904f-fd953ad031f0",
   "metadata": {},
   "outputs": [
    {
     "name": "stdin",
     "output_type": "stream",
     "text": [
      "Enter temperature in Celsius : 44.4\n"
     ]
    },
    {
     "name": "stdout",
     "output_type": "stream",
     "text": [
      "The temperature in temp_Fahrenheit is:= 111.92 °F\n"
     ]
    }
   ],
   "source": [
    "tem_celcius=input(\"Enter temperature in Celsius :\")\n",
    "Temp_Celcius=float(tem_celcius)\n",
    "Temp_Fahrenheit=Temp_Celcius*(9/5)+32\n",
    "print(\"The temperature in temp_Fahrenheit is:=\",Temp_Fahrenheit,\"°F\")\n"
   ]
  },
  {
   "cell_type": "markdown",
   "id": "6824c02e-24c6-4e3e-9e72-4c2734f12914",
   "metadata": {},
   "source": [
    "---------------------------------------------------------------"
   ]
  },
  {
   "cell_type": "code",
   "execution_count": 11,
   "id": "6dee11ce-4c33-4130-9b5f-00788b265ce1",
   "metadata": {},
   "outputs": [],
   "source": [
    "# TOPIC: String Based Questions"
   ]
  },
  {
   "cell_type": "code",
   "execution_count": 12,
   "id": "b5e9d6c7-410f-4bbb-a7ff-4ec5b350432c",
   "metadata": {},
   "outputs": [],
   "source": [
    "# Question 1. Write a Python program that takes a string as input and prints the length of\n",
    "#the string."
   ]
  },
  {
   "cell_type": "code",
   "execution_count": 13,
   "id": "8234b7c7-4a38-45ca-86bc-4f5e266dc44d",
   "metadata": {},
   "outputs": [],
   "source": [
    "# Solution 1:"
   ]
  },
  {
   "cell_type": "code",
   "execution_count": 14,
   "id": "d6acb3e7-21ca-43f0-88d6-a4f97070e5c0",
   "metadata": {},
   "outputs": [
    {
     "name": "stdin",
     "output_type": "stream",
     "text": [
      "Enter any string value dhfghjg\n"
     ]
    },
    {
     "name": "stdout",
     "output_type": "stream",
     "text": [
      "length of the entered string is:= 7\n"
     ]
    }
   ],
   "source": [
    "string=input(\"Enter any string value\")\n",
    "print(\"length of the entered string is:=\",len(string))"
   ]
  },
  {
   "cell_type": "markdown",
   "id": "20fb340e-28af-4788-9cd7-7a5e231cd9ff",
   "metadata": {},
   "source": [
    "---------------------------------------------------------------------------"
   ]
  },
  {
   "cell_type": "code",
   "execution_count": 15,
   "id": "c7e42bd0-5a42-4eb9-9b56-d74ea18d064e",
   "metadata": {},
   "outputs": [],
   "source": [
    "#Question 2: Create a program that takes a sentence from the user and counts the number\n",
    "#of vowels (a, e, i, o, u) in the string."
   ]
  },
  {
   "cell_type": "code",
   "execution_count": 16,
   "id": "6a7dd62c-8ddc-4183-887f-3c5caf8a3c1f",
   "metadata": {},
   "outputs": [],
   "source": [
    "# Solution 2: "
   ]
  },
  {
   "cell_type": "code",
   "execution_count": 17,
   "id": "d4b2c882-c55c-40b7-9fa0-746c699df9c1",
   "metadata": {},
   "outputs": [
    {
     "name": "stdin",
     "output_type": "stream",
     "text": [
      "Enter string here:= aeifn\n"
     ]
    },
    {
     "name": "stdout",
     "output_type": "stream",
     "text": [
      "Number of a in string:= 1 \n",
      "Number of e in string:= 1 \n",
      "Number of i in string:= 1 \n",
      "Number of o in string:= 0 \n",
      "Number of u in string:= 0 \n",
      "\n"
     ]
    }
   ],
   "source": [
    "user_string=input(\"Enter string here:=\")\n",
    "No_of_a=user_string.count('a')\n",
    "No_of_e=user_string.count('e')\n",
    "No_of_i=user_string.count('i')\n",
    "No_of_o=user_string.count('o')\n",
    "No_of_u=user_string.count('u')\n",
    "print(\"Number of a in string:=\",No_of_a,\"\\n\"\n",
    "      \"Number of e in string:=\",No_of_e,\"\\n\"\n",
    "      \"Number of i in string:=\",No_of_i,\"\\n\"\n",
    "      \"Number of o in string:=\",No_of_o,\"\\n\"\n",
    "      \"Number of u in string:=\",No_of_u,\"\\n\")\n",
    "      \n"
   ]
  },
  {
   "cell_type": "markdown",
   "id": "eaf81d4c-b498-487f-8be0-4b04b6344173",
   "metadata": {},
   "source": [
    "------------------------------------\n"
   ]
  },
  {
   "cell_type": "code",
   "execution_count": 18,
   "id": "3fdf44af-e94a-4b81-abc1-420e94d7e979",
   "metadata": {},
   "outputs": [],
   "source": [
    "# Question 3:Given a string, reverse the order of characters using string slicing and print\n",
    "#the reversed string."
   ]
  },
  {
   "cell_type": "code",
   "execution_count": 19,
   "id": "57cd3079-8794-4100-ac5f-286b89b2393d",
   "metadata": {},
   "outputs": [],
   "source": [
    "# Solution 3:"
   ]
  },
  {
   "cell_type": "code",
   "execution_count": 20,
   "id": "84671139-7fc9-410a-b32b-fe857d1270e8",
   "metadata": {},
   "outputs": [
    {
     "name": "stdout",
     "output_type": "stream",
     "text": [
      "Reversed string:= noitpo esrever gnirts rof desu si hcihw gnirts tset a si sihT\n"
     ]
    }
   ],
   "source": [
    "my_string=\"This is a test string which is used for string reverse option\"\n",
    "reversed_string=my_string[::-1]\n",
    "print(\"Reversed string:=\",reversed_string)"
   ]
  },
  {
   "cell_type": "markdown",
   "id": "935c3521-5d94-4cc6-b783-37272c547f03",
   "metadata": {},
   "source": [
    "------------------------------------------------------------------"
   ]
  },
  {
   "cell_type": "code",
   "execution_count": 21,
   "id": "63c38e52-9577-4679-bcbc-dc74bc3fc9ef",
   "metadata": {},
   "outputs": [],
   "source": [
    "#Question 4:Write a program that takes a string as input and checks if it is a palindrome\n",
    "#(reads the same forwards and backwards)."
   ]
  },
  {
   "cell_type": "code",
   "execution_count": 22,
   "id": "882791c2-5a5b-4d63-afc5-8a03ad30e905",
   "metadata": {},
   "outputs": [
    {
     "name": "stdin",
     "output_type": "stream",
     "text": [
      "Enter string:= hbh\n"
     ]
    },
    {
     "name": "stdout",
     "output_type": "stream",
     "text": [
      "String is palindrome\n"
     ]
    }
   ],
   "source": [
    "user_string=input(\"Enter string:=\")\n",
    "reversed_string=user_string[::-1]\n",
    "if user_string==reversed_string:\n",
    "    print(\"String is palindrome\")\n",
    "else:\n",
    "    print(\"String is not palindrome\")\n",
    "    "
   ]
  },
  {
   "cell_type": "markdown",
   "id": "1f653497-7977-49fa-9333-95206c789ef0",
   "metadata": {},
   "source": [
    "------------------------------------"
   ]
  },
  {
   "cell_type": "code",
   "execution_count": 23,
   "id": "54e022d6-10f6-42a2-9b96-06f30524556f",
   "metadata": {},
   "outputs": [],
   "source": [
    "# Question 5:Create a program that takes a string as input and removes all the spaces from\n",
    "#it. Print the modified string without spaces."
   ]
  },
  {
   "cell_type": "code",
   "execution_count": 24,
   "id": "45d0f8f1-518d-45ec-883a-e06aa51f50a7",
   "metadata": {},
   "outputs": [],
   "source": [
    "# Solution 5: "
   ]
  },
  {
   "cell_type": "code",
   "execution_count": 25,
   "id": "144ad38a-f85e-4c3e-be5f-44ac8076fd3b",
   "metadata": {},
   "outputs": [
    {
     "name": "stdin",
     "output_type": "stream",
     "text": [
      "Enter string here: jhj h\n"
     ]
    }
   ],
   "source": [
    "str_wth_spc=input(\"Enter string here:\")"
   ]
  },
  {
   "cell_type": "code",
   "execution_count": 26,
   "id": "c26650d1-e506-4091-a895-2d252ae26b1d",
   "metadata": {},
   "outputs": [
    {
     "name": "stdout",
     "output_type": "stream",
     "text": [
      "Modified string after removing all spaces: jhjh\n"
     ]
    }
   ],
   "source": [
    "print(\"Modified string after removing all spaces:\", str_wth_spc.replace(' ',''))"
   ]
  }
 ],
 "metadata": {
  "kernelspec": {
   "display_name": "Python 3 (ipykernel)",
   "language": "python",
   "name": "python3"
  },
  "language_info": {
   "codemirror_mode": {
    "name": "ipython",
    "version": 3
   },
   "file_extension": ".py",
   "mimetype": "text/x-python",
   "name": "python",
   "nbconvert_exporter": "python",
   "pygments_lexer": "ipython3",
   "version": "3.10.8"
  }
 },
 "nbformat": 4,
 "nbformat_minor": 5
}
